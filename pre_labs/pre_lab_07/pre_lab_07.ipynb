{
 "cells": [
  {
   "cell_type": "code",
   "execution_count": 3,
   "id": "73062bec-f1ea-4103-9a73-1d973b6aae43",
   "metadata": {},
   "outputs": [],
   "source": [
    "import requests\n",
    "import pip\n",
    "import pandas\n",
    "from bs4 import BeautifulSoup\n",
    "import bs4"
   ]
  },
  {
   "cell_type": "code",
   "execution_count": 85,
   "id": "f1b0efa5-f2d6-4789-b844-6ab380af72a3",
   "metadata": {},
   "outputs": [],
   "source": [
    "URL = \"https://www.bls.gov/ces/naics/\""
   ]
  },
  {
   "cell_type": "code",
   "execution_count": 86,
   "id": "aa9f5cb8-b9d5-47c4-9ad2-8e9da306e782",
   "metadata": {},
   "outputs": [],
   "source": [
    "warn_page = requests.get(URL)"
   ]
  },
  {
   "cell_type": "code",
   "execution_count": 120,
   "id": "c2d92897-3baa-4586-bf40-77db6e30e9a9",
   "metadata": {},
   "outputs": [],
   "source": [
    "soup = bs4.BeautifulSoup(warn_page.text, 'html.parser')"
   ]
  },
  {
   "cell_type": "code",
   "execution_count": 121,
   "id": "5eb6b284-52a0-4043-bf67-818eb4e2f850",
   "metadata": {},
   "outputs": [],
   "source": [
    "table = soup.find('table', id= \"NAICSsectors\", class_= \"regular\")"
   ]
  },
  {
   "cell_type": "code",
   "execution_count": 123,
   "id": "91a5c485-a649-49ee-a099-bcbd63fcab6e",
   "metadata": {},
   "outputs": [],
   "source": [
    "rows = table.find_all('td')"
   ]
  },
  {
   "cell_type": "code",
   "execution_count": 124,
   "id": "9a5c6173-bdc5-4fcd-8a4c-a2b43648eb7e",
   "metadata": {},
   "outputs": [
    {
     "ename": "IndexError",
     "evalue": "list index out of range",
     "output_type": "error",
     "traceback": [
      "\u001b[0;31m---------------------------------------------------------------------------\u001b[0m",
      "\u001b[0;31mIndexError\u001b[0m                                Traceback (most recent call last)",
      "\u001b[0;32m/var/folders/w9/xzztwp4j5zvbhs7yh931hmhm0000gn/T/ipykernel_57979/119947067.py\u001b[0m in \u001b[0;36m<module>\u001b[0;34m\u001b[0m\n\u001b[1;32m      1\u001b[0m \u001b[0;32mfor\u001b[0m \u001b[0mrow\u001b[0m \u001b[0;32min\u001b[0m \u001b[0mrows\u001b[0m\u001b[0;34m[\u001b[0m\u001b[0;36m1\u001b[0m\u001b[0;34m:\u001b[0m\u001b[0;34m]\u001b[0m\u001b[0;34m:\u001b[0m\u001b[0;34m\u001b[0m\u001b[0;34m\u001b[0m\u001b[0m\n\u001b[1;32m      2\u001b[0m     \u001b[0mcells\u001b[0m \u001b[0;34m=\u001b[0m \u001b[0mrow\u001b[0m\u001b[0;34m.\u001b[0m\u001b[0mfind_all\u001b[0m\u001b[0;34m(\u001b[0m\u001b[0;34m'td'\u001b[0m\u001b[0;34m)\u001b[0m\u001b[0;34m\u001b[0m\u001b[0;34m\u001b[0m\u001b[0m\n\u001b[0;32m----> 3\u001b[0;31m     \u001b[0mwarn_date\u001b[0m \u001b[0;34m=\u001b[0m \u001b[0mcells\u001b[0m\u001b[0;34m[\u001b[0m\u001b[0;36m0\u001b[0m\u001b[0;34m]\u001b[0m\u001b[0;34m.\u001b[0m\u001b[0mtext\u001b[0m\u001b[0;34m.\u001b[0m\u001b[0mstrip\u001b[0m\u001b[0;34m(\u001b[0m\u001b[0;34m)\u001b[0m\u001b[0;34m\u001b[0m\u001b[0;34m\u001b[0m\u001b[0m\n\u001b[0m\u001b[1;32m      4\u001b[0m     \u001b[0mprint\u001b[0m\u001b[0;34m(\u001b[0m\u001b[0mwarn_date\u001b[0m\u001b[0;34m)\u001b[0m\u001b[0;34m\u001b[0m\u001b[0;34m\u001b[0m\u001b[0m\n",
      "\u001b[0;31mIndexError\u001b[0m: list index out of range"
     ]
    }
   ],
   "source": [
    "for row in rows[1:]:\n",
    "    cells = row.find_all('td')\n",
    "    warn_date = cells[0].text.strip()\n",
    "    print(warn_date, naics_code, biz)"
   ]
  },
  {
   "cell_type": "code",
   "execution_count": 108,
   "id": "2ea268c8-268f-4d33-b69a-88602131911a",
   "metadata": {},
   "outputs": [
    {
     "ename": "IndexError",
     "evalue": "list index out of range",
     "output_type": "error",
     "traceback": [
      "\u001b[0;31m---------------------------------------------------------------------------\u001b[0m",
      "\u001b[0;31mIndexError\u001b[0m                                Traceback (most recent call last)",
      "\u001b[0;32m/var/folders/w9/xzztwp4j5zvbhs7yh931hmhm0000gn/T/ipykernel_57979/3242400338.py\u001b[0m in \u001b[0;36m<module>\u001b[0;34m\u001b[0m\n\u001b[1;32m      1\u001b[0m \u001b[0;32mfor\u001b[0m \u001b[0mrow\u001b[0m \u001b[0;32min\u001b[0m \u001b[0mrows\u001b[0m\u001b[0;34m[\u001b[0m\u001b[0;36m0\u001b[0m\u001b[0;34m:\u001b[0m\u001b[0;34m]\u001b[0m\u001b[0;34m:\u001b[0m\u001b[0;34m\u001b[0m\u001b[0;34m\u001b[0m\u001b[0m\n\u001b[1;32m      2\u001b[0m     \u001b[0mcells\u001b[0m \u001b[0;34m=\u001b[0m \u001b[0mrow\u001b[0m\u001b[0;34m.\u001b[0m\u001b[0mfind_all\u001b[0m\u001b[0;34m(\u001b[0m\u001b[0;34m'td'\u001b[0m\u001b[0;34m)\u001b[0m\u001b[0;34m\u001b[0m\u001b[0;34m\u001b[0m\u001b[0m\n\u001b[0;32m----> 3\u001b[0;31m     \u001b[0mindustry\u001b[0m \u001b[0;34m=\u001b[0m \u001b[0mcells\u001b[0m\u001b[0;34m[\u001b[0m\u001b[0;36m0\u001b[0m\u001b[0;34m]\u001b[0m\u001b[0;34m.\u001b[0m\u001b[0mtext\u001b[0m\u001b[0;34m.\u001b[0m\u001b[0mstrip\u001b[0m\u001b[0;34m(\u001b[0m\u001b[0;34m)\u001b[0m\u001b[0;34m\u001b[0m\u001b[0;34m\u001b[0m\u001b[0m\n\u001b[0m\u001b[1;32m      4\u001b[0m \u001b[0;34m\u001b[0m\u001b[0m\n\u001b[1;32m      5\u001b[0m     \u001b[0mprint\u001b[0m\u001b[0;34m(\u001b[0m\u001b[0mindustry\u001b[0m\u001b[0;34m)\u001b[0m\u001b[0;34m\u001b[0m\u001b[0;34m\u001b[0m\u001b[0m\n",
      "\u001b[0;31mIndexError\u001b[0m: list index out of range"
     ]
    }
   ],
   "source": [
    "for row in rows[0:]:\n",
    "    cells = row.find_all('td')\n",
    "    industry = cells[0].text.strip()\n",
    "    print(industry)"
   ]
  },
  {
   "cell_type": "code",
   "execution_count": null,
   "id": "55880c17-f6e3-4e0a-afa1-1e8f5e3adfd7",
   "metadata": {},
   "outputs": [],
   "source": []
  }
 ],
 "metadata": {
  "kernelspec": {
   "display_name": "Python 3 (ipykernel)",
   "language": "python",
   "name": "python3"
  },
  "language_info": {
   "codemirror_mode": {
    "name": "ipython",
    "version": 3
   },
   "file_extension": ".py",
   "mimetype": "text/x-python",
   "name": "python",
   "nbconvert_exporter": "python",
   "pygments_lexer": "ipython3",
   "version": "3.8.12"
  }
 },
 "nbformat": 4,
 "nbformat_minor": 5
}
